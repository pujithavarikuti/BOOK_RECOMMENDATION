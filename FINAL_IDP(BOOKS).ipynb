{
  "nbformat": 4,
  "nbformat_minor": 0,
  "metadata": {
    "colab": {
      "provenance": [],
      "include_colab_link": true
    },
    "kernelspec": {
      "name": "python3",
      "display_name": "Python 3"
    },
    "language_info": {
      "name": "python"
    }
  },
  "cells": [
    {
      "cell_type": "markdown",
      "metadata": {
        "id": "view-in-github",
        "colab_type": "text"
      },
      "source": [
        "<a href=\"https://colab.research.google.com/github/pujithavarikuti/BOOK_RECOMMENDATION/blob/main/FINAL_IDP(BOOKS).ipynb\" target=\"_parent\"><img src=\"https://colab.research.google.com/assets/colab-badge.svg\" alt=\"Open In Colab\"/></a>"
      ]
    },
    {
      "cell_type": "markdown",
      "source": [
        "DRIVE MOUNTING"
      ],
      "metadata": {
        "id": "K2WRVd5f58jz"
      }
    },
    {
      "cell_type": "code",
      "execution_count": null,
      "metadata": {
        "colab": {
          "base_uri": "https://localhost:8080/"
        },
        "id": "8VV6RN6wExmM",
        "outputId": "af7c7822-2ea9-4408-d0a6-cf3edacbfcd5"
      },
      "outputs": [
        {
          "output_type": "stream",
          "name": "stdout",
          "text": [
            "Mounted at /content/drive\n"
          ]
        }
      ],
      "source": [
        "from google.colab import drive\n",
        "# Mount Google Drive\n",
        "drive.mount('/content/drive')\n",
        "# You can now access your drive files using the path '/content/drive/My Drive/your_file_path'"
      ]
    },
    {
      "cell_type": "markdown",
      "source": [
        "LOAD THE DATASETS"
      ],
      "metadata": {
        "id": "U5I1U7Pm6A0K"
      }
    },
    {
      "cell_type": "code",
      "source": [
        "import pandas as pd\n",
        "# Load the datasets from Google Drive\n",
        "tags_df = pd.read_csv('/content/drive/MyDrive/tags.csv')\n",
        "bookss_df = pd.read_csv('/content/drive/MyDrive/bookss.csv')\n",
        "read_df = pd.read_csv('/content/drive/MyDrive/read.csv')\n",
        "book_tags_df = pd.read_csv('/content/drive/MyDrive/book_tags.csv')\n",
        "ratingss_df = pd.read_csv('/content/drive/MyDrive/ratingss.csv')\n",
        "# Display the first few rows of each dataframe to understand the structure\n",
        "print(tags_df.head())\n",
        "print(bookss_df.head())\n",
        "print(read_df.head())\n",
        "print(book_tags_df.head())\n",
        "print(ratingss_df.head())\n"
      ],
      "metadata": {
        "colab": {
          "base_uri": "https://localhost:8080/"
        },
        "id": "F6kS2FGZE9mA",
        "outputId": "8383a62e-a4cc-40b3-bed1-1a9db694939a"
      },
      "execution_count": null,
      "outputs": [
        {
          "output_type": "stream",
          "name": "stdout",
          "text": [
            "   tag_id tag_name\n",
            "0       0        -\n",
            "1       1     --1-\n",
            "2       2    --10-\n",
            "3       3    --12-\n",
            "4       4   --122-\n",
            "   book_id  goodreads_book_id  best_book_id  work_id  books_count       isbn  \\\n",
            "0        1            2767052       2767052  2792775          272  439023483   \n",
            "1        2                  3             3  4640799          491  439554934   \n",
            "2        3              41865         41865  3212258          226  316015849   \n",
            "3        4               2657          2657  3275794          487   61120081   \n",
            "4        5               4671          4671   245494         1356  743273567   \n",
            "\n",
            "         isbn13                      authors  original_publication_year  \\\n",
            "0  9.780439e+12              Suzanne Collins                     2008.0   \n",
            "1  9.780440e+12  J.K. Rowling, Mary GrandPré                     1997.0   \n",
            "2  9.780316e+12              Stephenie Meyer                     2005.0   \n",
            "3  9.780061e+12                   Harper Lee                     1960.0   \n",
            "4  9.780743e+12          F. Scott Fitzgerald                     1925.0   \n",
            "\n",
            "                             original_title  ... ratings_count  \\\n",
            "0                          The Hunger Games  ...       4780653   \n",
            "1  Harry Potter and the Philosopher's Stone  ...       4602479   \n",
            "2                                  Twilight  ...       3866839   \n",
            "3                     To Kill a Mockingbird  ...       3198671   \n",
            "4                          The Great Gatsby  ...       2683664   \n",
            "\n",
            "  work_ratings_count  work_text_reviews_count  ratings_1  ratings_2  \\\n",
            "0            4942365                   155254      66715     127936   \n",
            "1            4800065                    75867      75504     101676   \n",
            "2            3916824                    95009     456191     436802   \n",
            "3            3340896                    72586      60427     117415   \n",
            "4            2773745                    51992      86236     197621   \n",
            "\n",
            "   ratings_3  ratings_4  ratings_5  \\\n",
            "0     560092    1481305    2706317   \n",
            "1     455024    1156318    3011543   \n",
            "2     793319     875073    1355439   \n",
            "3     446835    1001952    1714267   \n",
            "4     606158     936012     947718   \n",
            "\n",
            "                                           image_url  \\\n",
            "0  https://images.gr-assets.com/books/1447303603m...   \n",
            "1  https://images.gr-assets.com/books/1474154022m...   \n",
            "2  https://images.gr-assets.com/books/1361039443m...   \n",
            "3  https://images.gr-assets.com/books/1361975680m...   \n",
            "4  https://images.gr-assets.com/books/1490528560m...   \n",
            "\n",
            "                                     small_image_url  \n",
            "0  https://images.gr-assets.com/books/1447303603s...  \n",
            "1  https://images.gr-assets.com/books/1474154022s...  \n",
            "2  https://images.gr-assets.com/books/1361039443s...  \n",
            "3  https://images.gr-assets.com/books/1361975680s...  \n",
            "4  https://images.gr-assets.com/books/1490528560s...  \n",
            "\n",
            "[5 rows x 23 columns]\n",
            "   user_id  book_id\n",
            "0        9        8\n",
            "1       15      398\n",
            "2       15      275\n",
            "3       37     7173\n",
            "4       34      380\n",
            "   goodreads_book_id  tag_id   count\n",
            "0                  1   30574  167697\n",
            "1                  1   11305   37174\n",
            "2                  1   11557   34173\n",
            "3                  1    8717   12986\n",
            "4                  1   33114   12716\n",
            "   user_id  book_id  rating\n",
            "0        1      258       5\n",
            "1        2     4081       4\n",
            "2        2      260       5\n",
            "3        2     9296       5\n",
            "4        2     2318       3\n"
          ]
        }
      ]
    },
    {
      "cell_type": "markdown",
      "source": [
        "INSTALLING ESSENTIAL LIBRARIES"
      ],
      "metadata": {
        "id": "fMkOagdmZulO"
      }
    },
    {
      "cell_type": "code",
      "source": [
        "!pip install surprise\n"
      ],
      "metadata": {
        "colab": {
          "base_uri": "https://localhost:8080/"
        },
        "id": "LRu6orUBFNfK",
        "outputId": "6d1b1996-3663-4e01-d98d-8d0def85e0c5"
      },
      "execution_count": null,
      "outputs": [
        {
          "output_type": "stream",
          "name": "stdout",
          "text": [
            "Collecting surprise\n",
            "  Using cached surprise-0.1-py2.py3-none-any.whl.metadata (327 bytes)\n",
            "Collecting scikit-surprise (from surprise)\n",
            "  Using cached scikit_surprise-1.1.4.tar.gz (154 kB)\n",
            "  Installing build dependencies ... \u001b[?25l\u001b[?25hdone\n",
            "  Getting requirements to build wheel ... \u001b[?25l\u001b[?25hdone\n",
            "  Preparing metadata (pyproject.toml) ... \u001b[?25l\u001b[?25hdone\n",
            "Requirement already satisfied: joblib>=1.2.0 in /usr/local/lib/python3.10/dist-packages (from scikit-surprise->surprise) (1.4.2)\n",
            "Requirement already satisfied: numpy>=1.19.5 in /usr/local/lib/python3.10/dist-packages (from scikit-surprise->surprise) (1.26.4)\n",
            "Requirement already satisfied: scipy>=1.6.0 in /usr/local/lib/python3.10/dist-packages (from scikit-surprise->surprise) (1.13.1)\n",
            "Using cached surprise-0.1-py2.py3-none-any.whl (1.8 kB)\n",
            "Building wheels for collected packages: scikit-surprise\n",
            "  Building wheel for scikit-surprise (pyproject.toml) ... \u001b[?25l\u001b[?25hdone\n",
            "  Created wheel for scikit-surprise: filename=scikit_surprise-1.1.4-cp310-cp310-linux_x86_64.whl size=2357275 sha256=4ee8ab337852ed3786bbaee3731e50668fdc4ca54c86cbb47cae7d9a4d76e02e\n",
            "  Stored in directory: /root/.cache/pip/wheels/4b/3f/df/6acbf0a40397d9bf3ff97f582cc22fb9ce66adde75bc71fd54\n",
            "Successfully built scikit-surprise\n",
            "Installing collected packages: scikit-surprise, surprise\n",
            "Successfully installed scikit-surprise-1.1.4 surprise-0.1\n"
          ]
        }
      ]
    },
    {
      "cell_type": "code",
      "source": [
        "# Install the Surprise library\n",
        "!pip install surprise\n",
        "\n",
        "# Import libraries\n",
        "import pandas as pd\n",
        "import numpy as np\n",
        "from sklearn.feature_extraction.text import TfidfVectorizer\n",
        "from sklearn.metrics.pairwise import linear_kernel\n",
        "from sklearn.metrics import precision_score, recall_score, f1_score\n",
        "from sklearn.model_selection import train_test_split\n",
        "from surprise import Dataset, Reader, SVD, accuracy\n",
        "from surprise.model_selection import train_test_split as surprise_train_test_split\n",
        "from surprise import KNNBasic\n",
        "import matplotlib.pyplot as plt\n",
        "import seaborn as sns\n"
      ],
      "metadata": {
        "colab": {
          "base_uri": "https://localhost:8080/"
        },
        "id": "eEtecH5VFlAs",
        "outputId": "b17baa54-6705-474c-b262-55621f8b1aa7"
      },
      "execution_count": null,
      "outputs": [
        {
          "output_type": "stream",
          "name": "stdout",
          "text": [
            "Requirement already satisfied: surprise in /usr/local/lib/python3.10/dist-packages (0.1)\n",
            "Requirement already satisfied: scikit-surprise in /usr/local/lib/python3.10/dist-packages (from surprise) (1.1.4)\n",
            "Requirement already satisfied: joblib>=1.2.0 in /usr/local/lib/python3.10/dist-packages (from scikit-surprise->surprise) (1.4.2)\n",
            "Requirement already satisfied: numpy>=1.19.5 in /usr/local/lib/python3.10/dist-packages (from scikit-surprise->surprise) (1.26.4)\n",
            "Requirement already satisfied: scipy>=1.6.0 in /usr/local/lib/python3.10/dist-packages (from scikit-surprise->surprise) (1.13.1)\n"
          ]
        }
      ]
    },
    {
      "cell_type": "markdown",
      "source": [
        "PREPROCESSING AND MERGING"
      ],
      "metadata": {
        "id": "932XYiK1HUbw"
      }
    },
    {
      "cell_type": "code",
      "source": [
        "# Merge datasets to create a comprehensive view\n",
        "books_tags = pd.merge(bookss_df, book_tags_df, left_on='goodreads_book_id', right_on='goodreads_book_id', how='left')\n",
        "books_tags = pd.merge(books_tags, tags_df, on='tag_id', how='left')\n",
        "\n",
        "# Check the merged DataFrame\n",
        "print(books_tags.head())\n",
        "\n",
        "# Combine tags into a single string for each book\n",
        "books_tags['combined_tags'] = books_tags.groupby('goodreads_book_id')['tag_name'].transform(lambda x: ' '.join(x))\n",
        "\n",
        "# Drop duplicates and keep only necessary columns\n",
        "books_tags = books_tags[['goodreads_book_id', 'title', 'combined_tags']].drop_duplicates()\n",
        "\n",
        "# Display the processed data\n",
        "print(books_tags.head())\n"
      ],
      "metadata": {
        "colab": {
          "base_uri": "https://localhost:8080/"
        },
        "id": "UPvIJT91Frqw",
        "outputId": "bbabe52b-6d13-42ba-e28b-c55b5dedc740"
      },
      "execution_count": null,
      "outputs": [
        {
          "output_type": "stream",
          "name": "stdout",
          "text": [
            "   book_id  goodreads_book_id  best_book_id  work_id  books_count       isbn  \\\n",
            "0        1            2767052       2767052  2792775          272  439023483   \n",
            "1        1            2767052       2767052  2792775          272  439023483   \n",
            "2        1            2767052       2767052  2792775          272  439023483   \n",
            "3        1            2767052       2767052  2792775          272  439023483   \n",
            "4        1            2767052       2767052  2792775          272  439023483   \n",
            "\n",
            "         isbn13          authors  original_publication_year    original_title  \\\n",
            "0  9.780439e+12  Suzanne Collins                     2008.0  The Hunger Games   \n",
            "1  9.780439e+12  Suzanne Collins                     2008.0  The Hunger Games   \n",
            "2  9.780439e+12  Suzanne Collins                     2008.0  The Hunger Games   \n",
            "3  9.780439e+12  Suzanne Collins                     2008.0  The Hunger Games   \n",
            "4  9.780439e+12  Suzanne Collins                     2008.0  The Hunger Games   \n",
            "\n",
            "   ... ratings_1 ratings_2  ratings_3  ratings_4  ratings_5  \\\n",
            "0  ...     66715    127936     560092    1481305    2706317   \n",
            "1  ...     66715    127936     560092    1481305    2706317   \n",
            "2  ...     66715    127936     560092    1481305    2706317   \n",
            "3  ...     66715    127936     560092    1481305    2706317   \n",
            "4  ...     66715    127936     560092    1481305    2706317   \n",
            "\n",
            "                                           image_url  \\\n",
            "0  https://images.gr-assets.com/books/1447303603m...   \n",
            "1  https://images.gr-assets.com/books/1447303603m...   \n",
            "2  https://images.gr-assets.com/books/1447303603m...   \n",
            "3  https://images.gr-assets.com/books/1447303603m...   \n",
            "4  https://images.gr-assets.com/books/1447303603m...   \n",
            "\n",
            "                                     small_image_url  tag_id  count  \\\n",
            "0  https://images.gr-assets.com/books/1447303603s...   11557  50755   \n",
            "1  https://images.gr-assets.com/books/1447303603s...    8717  35418   \n",
            "2  https://images.gr-assets.com/books/1447303603s...   33114  25968   \n",
            "3  https://images.gr-assets.com/books/1447303603s...   11743  13819   \n",
            "4  https://images.gr-assets.com/books/1447303603s...   10064  12985   \n",
            "\n",
            "            tag_name  \n",
            "0          favorites  \n",
            "1  currently-reading  \n",
            "2        young-adult  \n",
            "3            fiction  \n",
            "4          dystopian  \n",
            "\n",
            "[5 rows x 26 columns]\n",
            "     goodreads_book_id                                              title  \\\n",
            "0              2767052            The Hunger Games (The Hunger Games, #1)   \n",
            "100                  3  Harry Potter and the Sorcerer's Stone (Harry P...   \n",
            "200              41865                            Twilight (Twilight, #1)   \n",
            "300               2657                              To Kill a Mockingbird   \n",
            "400               4671                                   The Great Gatsby   \n",
            "\n",
            "                                         combined_tags  \n",
            "0    favorites currently-reading young-adult fictio...  \n",
            "100  to-read favorites fantasy currently-reading yo...  \n",
            "200  young-adult fantasy favorites vampires ya fict...  \n",
            "300  classics favorites to-read classic historical-...  \n",
            "400  classics favorites fiction classic books-i-own...  \n"
          ]
        }
      ]
    },
    {
      "cell_type": "markdown",
      "source": [
        "RECOMMENDATIONS CREATION"
      ],
      "metadata": {
        "id": "W-SWD97eHiH9"
      }
    },
    {
      "cell_type": "code",
      "source": [
        "import pandas as pd\n",
        "# Sample dataset (this should be your actual dataset)\n",
        "books_data = {\n",
        "    'title': ['To Kill a Mockingbird', '1984', 'Pride and Prejudice', 'The Great Gatsby', 'Moby Dick'],\n",
        "    'author': ['Harper Lee', 'George Orwell', 'Jane Austen', 'F. Scott Fitzgerald', 'Herman Melville'],\n",
        "    'genre': ['Fiction', 'Dystopian', 'Romance', 'Fiction', 'Adventure']\n",
        "}\n",
        "books_df = pd.DataFrame(books_data)\n",
        "# Sample implementation of get_recommendations\n",
        "def get_recommendations(title):\n",
        "    # Find the book in the dataset\n",
        "    if title in books_df['title'].values:\n",
        "        # For simplicity, let's just return all books except the one requested\n",
        "        recommendations = books_df[books_df['title'] != title]\n",
        "        return recommendations\n",
        "    else:\n",
        "        raise ValueError(\"Book title not found in the dataset.\")\n",
        "def get_svd_recommendations(title):\n",
        "    # Placeholder for SVD recommendations logic\n",
        "    return pd.DataFrame(columns=['title'])  # Replace with actual recommendations\n",
        "def get_knn_recommendations(title):\n",
        "    # Placeholder for KNN recommendations logic\n",
        "    return pd.DataFrame(columns=['title'])  # Replace with actual recommendations\n",
        "def combine_predictions(cbf, svd, knn):\n",
        "    # Combine the recommendations from the three models\n",
        "    combined = pd.concat([cbf, svd, knn]).drop_duplicates().reset_index(drop=True)\n",
        "    return combined\n",
        "# Define the main recommendation function\n",
        "def recommend_books(title):\n",
        "    try:\n",
        "        cbf_recommendations = get_recommendations(title)\n",
        "        svd_recommendations = get_svd_recommendations(title)\n",
        "        knn_recommendations = get_knn_recommendations(title)\n",
        "        final_recommendations = combine_predictions(cbf_recommendations, svd_recommendations, knn_recommendations)\n",
        "        return final_recommendations.head(10)\n",
        "    except Exception as e:\n",
        "        print(f\"An error occurred: {e}\")\n",
        "        return None\n",
        "# Example usage\n",
        "book_title = input(\"Enter a book title: \")\n",
        "recommended_books = recommend_books(book_title)\n",
        "if recommended_books is not None:\n",
        "    print(\"Recommended Books:\")\n",
        "    print(recommended_books)\n",
        "else:\n",
        "    print(\"No recommendations available.\")"
      ],
      "metadata": {
        "colab": {
          "base_uri": "https://localhost:8080/"
        },
        "id": "V5id7-VuUU-n",
        "outputId": "ba8e330f-8420-46dd-bbdc-a9ec5956703f"
      },
      "execution_count": null,
      "outputs": [
        {
          "output_type": "stream",
          "name": "stdout",
          "text": [
            "Enter a book title: To Kill a Mockingbird\n",
            "Recommended Books:\n",
            "                 title               author      genre\n",
            "0                 1984        George Orwell  Dystopian\n",
            "1  Pride and Prejudice          Jane Austen    Romance\n",
            "2     The Great Gatsby  F. Scott Fitzgerald    Fiction\n",
            "3            Moby Dick      Herman Melville  Adventure\n"
          ]
        }
      ]
    },
    {
      "cell_type": "markdown",
      "source": [
        "RECOMMEND SIMILAR BOOKS"
      ],
      "metadata": {
        "id": "lpv8v47qXTyp"
      }
    },
    {
      "cell_type": "code",
      "source": [
        "def get_recommendations(title):\n",
        "    # Find the book in the dataset\n",
        "    if title in books_df['title'].values:\n",
        "        book_info = books_df[books_df['title'] == title].iloc[0]\n",
        "        genre = book_info['genre']\n",
        "\n",
        "        # Recommend books from the same genre\n",
        "        recommendations = books_df[books_df['genre'] == genre]\n",
        "        recommendations = recommendations[recommendations['title'] != title]  # Exclude the input book\n",
        "        return recommendations\n",
        "    else:\n",
        "        raise ValueError(\"Book title not found in the dataset.\")\n"
      ],
      "metadata": {
        "id": "RBSmFtXuUjGl"
      },
      "execution_count": null,
      "outputs": []
    },
    {
      "cell_type": "code",
      "source": [
        "# Sample 10% of the ratings\n",
        "ratingss_sampled = ratingss_df.sample(frac=0.1, random_state=42)\n"
      ],
      "metadata": {
        "id": "cuczkf8lFuS_"
      },
      "execution_count": null,
      "outputs": []
    },
    {
      "cell_type": "code",
      "source": [
        "from scipy.sparse import csr_matrix\n",
        "\n",
        "# Create a sparse user-item interaction matrix\n",
        "# Use 'ratingss_df' instead of 'ratings_df'\n",
        "ratings_matrix_sparse = csr_matrix((ratingss_df['rating'], (ratingss_df['user_id'], ratingss_df['book_id'])))"
      ],
      "metadata": {
        "id": "fJ0hgkGdFx4J"
      },
      "execution_count": null,
      "outputs": []
    },
    {
      "cell_type": "markdown",
      "source": [
        "DATA SPLITTING"
      ],
      "metadata": {
        "id": "ly3iwtHhXamt"
      }
    },
    {
      "cell_type": "code",
      "source": [
        "from surprise import Dataset, Reader\n",
        "from surprise.model_selection import train_test_split as surprise_train_test_split\n",
        "\n",
        "# Check if ratingss_df is not empty and has the required columns\n",
        "if 'user_id' in ratingss_df.columns and 'book_id' in ratingss_df.columns and 'rating' in ratingss_df.columns:\n",
        "    # Prepare the data for Surprise\n",
        "    reader = Reader(rating_scale=(1, 5))  # Adjust the scale based on your ratings\n",
        "    data = Dataset.load_from_df(ratingss_df[['user_id', 'book_id', 'rating']], reader)\n",
        "\n",
        "    # Split the data into training and testing sets\n",
        "    trainset, testset = surprise_train_test_split(data, test_size=0.2)\n",
        "    print(\"Data prepared and split successfully.\")\n",
        "else:\n",
        "    print(\"Error: DataFrame does not contain the required columns.\")\n"
      ],
      "metadata": {
        "colab": {
          "base_uri": "https://localhost:8080/"
        },
        "id": "i0SelthSF3d0",
        "outputId": "24f8c19f-cea2-45af-e063-e62ede424675"
      },
      "execution_count": null,
      "outputs": [
        {
          "output_type": "stream",
          "name": "stdout",
          "text": [
            "Data prepared and split successfully.\n"
          ]
        }
      ]
    },
    {
      "cell_type": "code",
      "source": [
        "# Sample 5% of the ratings\n",
        "ratingss_small_sampled = ratingss_df.sample(frac=0.05, random_state=42)\n"
      ],
      "metadata": {
        "id": "tgeM_mpSGyXV"
      },
      "execution_count": null,
      "outputs": []
    },
    {
      "cell_type": "code",
      "source": [
        "from surprise import Dataset, Reader\n",
        "\n",
        "# Prepare the data for Surprise\n",
        "reader = Reader(rating_scale=(1, 5))\n",
        "data = Dataset.load_from_df(ratingss_small_sampled[['user_id', 'book_id', 'rating']], reader)\n"
      ],
      "metadata": {
        "id": "qv3Rn-InG2-q"
      },
      "execution_count": null,
      "outputs": []
    },
    {
      "cell_type": "code",
      "source": [
        "# Sample 100% of the ratings since you have only 5\n",
        "ratingss_small_sampled = ratingss_df  # Use all data\n"
      ],
      "metadata": {
        "id": "Nvw1vLQyWSKw"
      },
      "execution_count": null,
      "outputs": []
    },
    {
      "cell_type": "code",
      "source": [
        "ratingss_small_sampled = ratingss_df.sample(frac=1.0, random_state=42)  # Sample all entries\n"
      ],
      "metadata": {
        "id": "NqQswEKnWU8x"
      },
      "execution_count": null,
      "outputs": []
    },
    {
      "cell_type": "code",
      "source": [
        "from surprise.model_selection import train_test_split\n",
        "\n",
        "# Prepare the data for Surprise\n",
        "from surprise import Dataset, Reader\n",
        "reader = Reader(rating_scale=(1, 5))\n",
        "data = Dataset.load_from_df(ratingss_small_sampled[['user_id', 'book_id', 'rating']], reader)\n",
        "\n",
        "# Split the data into training and testing sets\n",
        "trainset, testset = train_test_split(data, test_size=1)  # Using one rating for testing\n"
      ],
      "metadata": {
        "id": "IdL-rjBJWYUk"
      },
      "execution_count": null,
      "outputs": []
    },
    {
      "cell_type": "markdown",
      "source": [
        "RATINGS AND LIKES"
      ],
      "metadata": {
        "id": "PW1N1Jd0aIwW"
      }
    },
    {
      "cell_type": "code",
      "source": [
        "print(\"Sampled DataFrame shape:\", ratingss_small_sampled.shape)\n",
        "print(\"Sampled DataFrame contents:\\n\", ratingss_small_sampled.head())\n"
      ],
      "metadata": {
        "colab": {
          "base_uri": "https://localhost:8080/"
        },
        "id": "kke8mbF4Wifg",
        "outputId": "56ce6c46-bb1f-49e3-f88d-6af8a9b5d950"
      },
      "execution_count": null,
      "outputs": [
        {
          "output_type": "stream",
          "name": "stdout",
          "text": [
            "Sampled DataFrame shape: (5, 4)\n",
            "Sampled DataFrame contents:\n",
            "    user_id  book_id  rating  liked\n",
            "1        2      102       3      0\n",
            "4        5      105       5      1\n",
            "2        3      103       4      1\n",
            "0        1      101       5      1\n",
            "3        4      104       2      0\n"
          ]
        }
      ]
    },
    {
      "cell_type": "markdown",
      "source": [
        "TRAIN AND TEST SIZE RATINGS"
      ],
      "metadata": {
        "id": "HO-raJQCaONy"
      }
    },
    {
      "cell_type": "code",
      "source": [
        "import pandas as pd\n",
        "from surprise import Dataset, Reader\n",
        "from surprise.model_selection import train_test_split\n",
        "\n",
        "# Assuming ratingss_df is already defined with 5 ratings\n",
        "print(\"Original DataFrame shape:\", ratingss_df.shape)\n",
        "\n",
        "# Sample all data (since only 5 ratings)\n",
        "ratingss_small_sampled = ratingss_df.sample(frac=1.0, random_state=42)  # Sample all entries\n",
        "print(\"Sampled DataFrame shape:\", ratingss_small_sampled.shape)\n",
        "print(\"Sampled DataFrame contents:\\n\", ratingss_small_sampled)\n",
        "\n",
        "# Prepare the data for Surprise\n",
        "reader = Reader(rating_scale=(1, 5))\n",
        "data = Dataset.load_from_df(ratingss_small_sampled[['user_id', 'book_id', 'rating']], reader)\n",
        "\n",
        "# Split the data into training and testing sets\n",
        "trainset, testset = train_test_split(data, test_size=1)  # Using one rating for testing\n",
        "\n",
        "# Print the number of ratings in trainset and testset\n",
        "print(f\"Trainset size: {trainset.n_ratings} ratings\")\n",
        "print(f\"Testset size: {len(testset)} ratings\")\n"
      ],
      "metadata": {
        "colab": {
          "base_uri": "https://localhost:8080/"
        },
        "id": "vzd-X0I9Wm08",
        "outputId": "04ca85c5-bbed-49b0-9f95-ec3bbb71f6be"
      },
      "execution_count": null,
      "outputs": [
        {
          "output_type": "stream",
          "name": "stdout",
          "text": [
            "Original DataFrame shape: (5, 4)\n",
            "Sampled DataFrame shape: (5, 4)\n",
            "Sampled DataFrame contents:\n",
            "    user_id  book_id  rating  liked\n",
            "1        2      102       3      0\n",
            "4        5      105       5      1\n",
            "2        3      103       4      1\n",
            "0        1      101       5      1\n",
            "3        4      104       2      0\n",
            "Trainset size: 4 ratings\n",
            "Testset size: 1 ratings\n"
          ]
        }
      ]
    },
    {
      "cell_type": "markdown",
      "source": [
        "SVD"
      ],
      "metadata": {
        "id": "DlsNllgNXk3n"
      }
    },
    {
      "cell_type": "code",
      "source": [
        "from surprise import SVD\n",
        "from surprise import accuracy\n",
        "\n",
        "# Initialize the SVD algorithm\n",
        "svd = SVD()\n",
        "\n",
        "# Fit the model\n",
        "svd.fit(trainset)\n",
        "\n",
        "# Make predictions on the test set\n",
        "predictions = svd.test(testset)\n",
        "\n",
        "# Calculate accuracy metrics\n",
        "rmse = accuracy.rmse(predictions)\n",
        "mae = accuracy.mae(predictions)\n",
        "\n",
        "print(f'SVD RMSE: {rmse}')\n",
        "print(f'SVD MAE: {mae}')\n"
      ],
      "metadata": {
        "colab": {
          "base_uri": "https://localhost:8080/"
        },
        "id": "-NEegs9iXCNx",
        "outputId": "e318ba95-8e1b-4644-c63d-209697f4a63e"
      },
      "execution_count": null,
      "outputs": [
        {
          "output_type": "stream",
          "name": "stdout",
          "text": [
            "RMSE: 0.2500\n",
            "MAE:  0.2500\n",
            "SVD RMSE: 0.25\n",
            "SVD MAE: 0.25\n"
          ]
        }
      ]
    },
    {
      "cell_type": "markdown",
      "source": [
        "KNN"
      ],
      "metadata": {
        "id": "jQxgpxtMXoTH"
      }
    },
    {
      "cell_type": "code",
      "source": [
        "from surprise import KNNBasic\n",
        "\n",
        "# Specify the similarity options (e.g., 'cosine', 'msd', etc.)\n",
        "sim_options = {\n",
        "    'name': 'cosine',\n",
        "    'user_based': False  # Use item-based filtering\n",
        "}\n",
        "\n",
        "# Initialize the KNN algorithm\n",
        "knn_model = KNNBasic(sim_options=sim_options)\n",
        "\n",
        "# Fit the model on the training set\n",
        "knn_model.fit(trainset)\n",
        "\n",
        "# Make predictions on the test set\n",
        "knn_predictions = knn_model.test(testset)\n",
        "\n",
        "# Calculate accuracy metrics\n",
        "knn_rmse = accuracy.rmse(knn_predictions)\n",
        "knn_mae = accuracy.mae(knn_predictions)\n",
        "\n",
        "print(f'KNN RMSE: {knn_rmse}')\n",
        "print(f'KNN MAE: {knn_mae}')\n"
      ],
      "metadata": {
        "colab": {
          "base_uri": "https://localhost:8080/"
        },
        "id": "2CMkHWvmG8tG",
        "outputId": "c2d891ae-f06b-45d3-857a-0af89d74b172"
      },
      "execution_count": null,
      "outputs": [
        {
          "output_type": "stream",
          "name": "stdout",
          "text": [
            "Computing the cosine similarity matrix...\n",
            "Done computing similarity matrix.\n",
            "RMSE: 0.2500\n",
            "MAE:  0.2500\n",
            "KNN RMSE: 0.25\n",
            "KNN MAE: 0.25\n"
          ]
        }
      ]
    },
    {
      "cell_type": "markdown",
      "source": [
        "HYBRID"
      ],
      "metadata": {
        "id": "Yso2RcLHXqzI"
      }
    },
    {
      "cell_type": "code",
      "source": [
        "def get_combined_recommendations(user_id, ratings_df, svd_model, knn_model):\n",
        "    try:\n",
        "        # Get predictions for the user\n",
        "        svd_prediction = svd_model.predict(user_id)\n",
        "        knn_prediction = knn_model.predict(user_id)\n",
        "\n",
        "        # Debugging outputs\n",
        "        print(f\"SVD Prediction: {svd_prediction} (Type: {type(svd_prediction)})\")\n",
        "        print(f\"KNN Prediction: {knn_prediction} (Type: {type(knn_prediction)})\")\n",
        "\n",
        "        # Combine predictions (make sure they are numeric)\n",
        "        if isinstance(svd_prediction, (int, float)) and isinstance(knn_prediction, (int, float)):\n",
        "            combined_score = svd_prediction + knn_prediction\n",
        "            print(f\"Combined Score: {combined_score}\")\n",
        "        else:\n",
        "            print(\"One of the predictions is not a numeric type.\")\n",
        "            return None\n",
        "\n",
        "        # Return top recommendations (modify as needed for your logic)\n",
        "        return combined_score  # Adjust this as per your recommendation logic\n",
        "\n",
        "    except TypeError as e:\n",
        "        print(f\"TypeError occurred: {e}\")\n",
        "    except Exception as e:\n",
        "        print(f\"An error occurred: {e}\")\n"
      ],
      "metadata": {
        "id": "Z05MrXmtYEtC"
      },
      "execution_count": null,
      "outputs": []
    },
    {
      "cell_type": "markdown",
      "source": [
        "HYBRID MODEL RECOMMENDATIONS"
      ],
      "metadata": {
        "id": "DYOKfmd_X16r"
      }
    },
    {
      "cell_type": "code",
      "source": [
        "# Assuming you have your models defined somewhere earlier\n",
        "from surprise import SVD, KNNBasic\n",
        "from surprise.model_selection import train_test_split\n",
        "\n",
        "# Sample code to define and train your models\n",
        "# Example of loading your data and initializing the models\n",
        "\n",
        "# Assume ratings_df is your DataFrame with user_id, book_id, and rating columns\n",
        "reader = Reader(rating_scale=(1, 5))\n",
        "data = Dataset.load_from_df(ratings_df[['user_id', 'book_id', 'rating']], reader)\n",
        "\n",
        "# Split the data\n",
        "trainset, testset = train_test_split(data, test_size=0.1)\n",
        "\n",
        "# Initialize and fit SVD\n",
        "svd_model = SVD()\n",
        "svd_model.fit(trainset)\n",
        "\n",
        "# Initialize and fit KNN\n",
        "knn_model = KNNBasic()\n",
        "knn_model.fit(trainset)\n",
        "\n",
        "# Function to get combined recommendations\n",
        "def get_combined_recommendations(user_id, book_id):\n",
        "    try:\n",
        "        # Get SVD prediction\n",
        "        svd_prediction = svd_model.predict(user_id, book_id).est  # Use .est to get the estimated rating\n",
        "        # Get KNN prediction\n",
        "        knn_prediction = knn_model.predict(user_id, book_id).est  # Same for KNN\n",
        "\n",
        "        # Debugging outputs\n",
        "        print(f\"SVD Prediction: {svd_prediction} (Type: {type(svd_prediction)})\")\n",
        "        print(f\"KNN Prediction: {knn_prediction} (Type: {type(knn_prediction)})\")\n",
        "\n",
        "        # Combine predictions\n",
        "        combined_score = (svd_prediction + knn_prediction) / 2  # Adjust as needed for weighting\n",
        "\n",
        "        return combined_score  # You can modify this to return more information\n",
        "\n",
        "    except TypeError as e:\n",
        "        print(f\"TypeError occurred: {e}\")\n",
        "    except Exception as e:\n",
        "        print(f\"An error occurred: {e}\")\n",
        "\n",
        "# Example usage\n",
        "user_id = 1  # Replace with a valid user ID\n",
        "book_id = 101  # Replace with a valid book ID\n",
        "recommended_score = get_combined_recommendations(user_id, book_id)\n",
        "print(f\"Combined Recommendation Score: {recommended_score}\")\n"
      ],
      "metadata": {
        "colab": {
          "base_uri": "https://localhost:8080/"
        },
        "id": "P0IvcJcsYJg7",
        "outputId": "d0538988-de0e-42f1-e5a9-f70351494552"
      },
      "execution_count": null,
      "outputs": [
        {
          "output_type": "stream",
          "name": "stdout",
          "text": [
            "Computing the msd similarity matrix...\n",
            "Done computing similarity matrix.\n",
            "SVD Prediction: 4.46095039298455 (Type: <class 'numpy.float64'>)\n",
            "KNN Prediction: 5 (Type: <class 'int'>)\n",
            "Combined Recommendation Score: 4.730475196492275\n"
          ]
        }
      ]
    },
    {
      "cell_type": "markdown",
      "source": [
        "RECOMMENDING MULTIPLE BOOKS"
      ],
      "metadata": {
        "id": "USllNGvhYB6a"
      }
    },
    {
      "cell_type": "code",
      "source": [
        "def recommend_multiple_books(user_id, book_ids):\n",
        "    recommendations = []\n",
        "\n",
        "    for book_id in book_ids:\n",
        "        score = get_combined_recommendations(user_id, book_id)\n",
        "        recommendations.append((book_id, score))\n",
        "\n",
        "    # Sort by score in descending order\n",
        "    recommendations.sort(key=lambda x: x[1], reverse=True)\n",
        "\n",
        "    return recommendations[:5]  # Return top 5 recommendations\n",
        "\n",
        "# Example usage\n",
        "user_id = 1  # Replace with a valid user ID\n",
        "book_ids = [101, 102, 103, 104, 105]  # List of book IDs you want to recommend\n",
        "recommended_books = recommend_multiple_books(user_id, book_ids)\n",
        "\n",
        "print(\"Top Recommended Books:\")\n",
        "for book_id, score in recommended_books:\n",
        "    print(f\"Book ID: {book_id}, Combined Score: {score:.2f}\")\n"
      ],
      "metadata": {
        "colab": {
          "base_uri": "https://localhost:8080/"
        },
        "id": "lF1s8smtYYXj",
        "outputId": "c45216b5-8a0b-40c7-cd22-1ef35a57e010"
      },
      "execution_count": null,
      "outputs": [
        {
          "output_type": "stream",
          "name": "stdout",
          "text": [
            "SVD Prediction: 4.46095039298455 (Type: <class 'numpy.float64'>)\n",
            "KNN Prediction: 5 (Type: <class 'int'>)\n",
            "SVD Prediction: 4.291554819796823 (Type: <class 'numpy.float64'>)\n",
            "KNN Prediction: 4.25 (Type: <class 'numpy.float64'>)\n",
            "SVD Prediction: 4.1527772066471975 (Type: <class 'numpy.float64'>)\n",
            "KNN Prediction: 4.25 (Type: <class 'numpy.float64'>)\n",
            "SVD Prediction: 4.317705738555829 (Type: <class 'numpy.float64'>)\n",
            "KNN Prediction: 4.25 (Type: <class 'numpy.float64'>)\n",
            "SVD Prediction: 4.55283341534717 (Type: <class 'numpy.float64'>)\n",
            "KNN Prediction: 4.25 (Type: <class 'numpy.float64'>)\n",
            "Top Recommended Books:\n",
            "Book ID: 101, Combined Score: 4.73\n",
            "Book ID: 105, Combined Score: 4.40\n",
            "Book ID: 104, Combined Score: 4.28\n",
            "Book ID: 102, Combined Score: 4.27\n",
            "Book ID: 103, Combined Score: 4.20\n"
          ]
        }
      ]
    },
    {
      "cell_type": "markdown",
      "source": [
        "HYBRID SCORE FOR MULTIPLE RECOMMENDATIONS"
      ],
      "metadata": {
        "id": "iEVWmaB4aYoQ"
      }
    },
    {
      "cell_type": "code",
      "source": [
        "# Assuming recommended_books is a DataFrame or list of tuples with book_id and combined_score\n",
        "recommended_books = [\n",
        "    {'book_id': 101, 'combined_score': 4.73},\n",
        "    {'book_id': 105, 'combined_score': 4.40},\n",
        "    {'book_id': 104, 'combined_score': 4.28},\n",
        "    {'book_id': 102, 'combined_score': 4.27},\n",
        "    {'book_id': 103, 'combined_score': 4.20},\n",
        "]\n",
        "\n",
        "# Convert recommended_books to a DataFrame if it's not already\n",
        "recommended_df = pd.DataFrame(recommended_books)\n",
        "\n",
        "# Merge with books_df to get full details\n",
        "merged_recommendations = recommended_df.merge(books_df[['book_id', 'title', 'authors']], on='book_id', how='left')\n",
        "\n",
        "# Display the top recommended books with titles and authors\n",
        "print(\"Top Recommended Books:\")\n",
        "print(merged_recommendations[['book_id', 'title', 'authors', 'combined_score']])\n"
      ],
      "metadata": {
        "colab": {
          "base_uri": "https://localhost:8080/"
        },
        "id": "dXBxYh9YZKek",
        "outputId": "11e9271f-5ab4-4501-a33c-b34f592de238"
      },
      "execution_count": null,
      "outputs": [
        {
          "output_type": "stream",
          "name": "stdout",
          "text": [
            "Top Recommended Books:\n",
            "   book_id                      title                      authors  \\\n",
            "0      101     Me Talk Pretty One Day                David Sedaris   \n",
            "1      105  Allegiant (Divergent, #3)                Veronica Roth   \n",
            "2      104                   The Road              Cormac McCarthy   \n",
            "3      102  Where the Wild Things Are               Maurice Sendak   \n",
            "4      103  The Count of Monte Cristo  Alexandre Dumas, Robin Buss   \n",
            "\n",
            "   combined_score  \n",
            "0            4.73  \n",
            "1            4.40  \n",
            "2            4.28  \n",
            "3            4.27  \n",
            "4            4.20  \n"
          ]
        }
      ]
    },
    {
      "cell_type": "markdown",
      "source": [
        "RECOMMENDATIONS GRAPH"
      ],
      "metadata": {
        "id": "-y7X0bGpYKDr"
      }
    },
    {
      "cell_type": "code",
      "source": [
        "import pandas as pd\n",
        "import seaborn as sns\n",
        "import matplotlib.pyplot as plt\n",
        "\n",
        "# Assuming you already have these dataframes defined\n",
        "# ratings_df, books_df, svd, knn_model are already created and loaded.\n",
        "\n",
        "# Function to get combined recommendations\n",
        "def get_combined_recommendations(user_id, ratings_df, svd, knn_model):\n",
        "    recommended_books = []  # This will hold our recommended book info\n",
        "\n",
        "    for book_id in ratings_df['book_id'].unique():  # Loop through all book IDs\n",
        "        svd_prediction = svd.predict(user_id, book_id).est\n",
        "        knn_prediction = knn_model.predict(user_id, book_id).est\n",
        "\n",
        "        # Combine predictions (you can adjust the weighting if desired)\n",
        "        combined_score = (svd_prediction + knn_prediction) / 2\n",
        "\n",
        "        # Assuming you have a way to get book details; replace this with your actual method\n",
        "        book_details = books_df.loc[books_df['book_id'] == book_id]\n",
        "        if not book_details.empty:\n",
        "            recommended_books.append({\n",
        "                'book_id': book_id,\n",
        "                'title': book_details['title'].values[0],\n",
        "                'authors': book_details['authors'].values[0],\n",
        "                'combined_score': combined_score\n",
        "            })\n",
        "\n",
        "    # Create a DataFrame from the recommendations\n",
        "    return pd.DataFrame(recommended_books).sort_values(by='combined_score', ascending=False)\n",
        "\n",
        "# Main Function to Integrate Everything\n",
        "def main():\n",
        "    user_id = 1  # Example user ID\n",
        "    top_recommendations = get_combined_recommendations(user_id, ratings_df, svd, knn_model)\n",
        "\n",
        "    # Visualize Recommendations\n",
        "    plt.figure(figsize=(10, 6))\n",
        "    sns.barplot(x='combined_score', y='title', data=top_recommendations)\n",
        "    plt.title('Top Recommended Books')\n",
        "    plt.xlabel('Combined Score')\n",
        "    plt.ylabel('Book Title')\n",
        "    plt.show()\n",
        "\n",
        "    # If you don't have this function defined, comment it out for now\n",
        "    # feedback = collect_user_feedback(top_recommendations)\n",
        "\n",
        "    # You can proceed to evaluate the model if you have the evaluation function defined.\n",
        "    # Step 5: Evaluate the Model\n",
        "    # actual_likes = {101: True, 102: False}  # Replace with actual user preferences\n",
        "    # accuracy = evaluate_model(feedback, actual_likes)\n",
        "    # print(f'Model Accuracy: {accuracy * 100:.2f}%')\n",
        "\n",
        "    # If you want to filter recommendations or save them, make sure those functions are defined.\n",
        "\n",
        "# Run the main function\n",
        "main()\n"
      ],
      "metadata": {
        "colab": {
          "base_uri": "https://localhost:8080/",
          "height": 408
        },
        "id": "nN9fDuU3aThE",
        "outputId": "88e89440-e340-4d74-d8d8-0dbc1bdcfb2e"
      },
      "execution_count": null,
      "outputs": [
        {
          "output_type": "display_data",
          "data": {
            "text/plain": [
              "<Figure size 1000x600 with 1 Axes>"
            ],
            "image/png": "[encoded data removed]"
          },
          "metadata": {}
        }
      ]
    },
    {
      "cell_type": "markdown",
      "source": [
        "COLLECTING USER FEEDBACK"
      ],
      "metadata": {
        "id": "QH6wAwYWaiQ9"
      }
    },
    {
      "cell_type": "code",
      "source": [
        "def collect_user_feedback(recommendations):\n",
        "    feedback = []\n",
        "    for index, row in recommendations.iterrows():\n",
        "        user_input = input(f\"Did you like '{row['title']}' by {row['authors']}? (yes/no): \")\n",
        "        feedback.append({'book_id': row['book_id'], 'liked': user_input.lower() == 'yes'})\n",
        "    return pd.DataFrame(feedback)\n"
      ],
      "metadata": {
        "id": "v_KwxJanagEK"
      },
      "execution_count": null,
      "outputs": []
    },
    {
      "cell_type": "code",
      "source": [
        "def evaluate_model(feedback_df, ratings_df):\n",
        "    # Merge with ratings to calculate metrics\n",
        "    merged_df = feedback_df.merge(ratings_df, on='book_id', how='left')\n",
        "    # Calculate precision, recall, etc.\n",
        "    # Implement your evaluation logic here\n"
      ],
      "metadata": {
        "id": "ZAIxHH2IahnK"
      },
      "execution_count": null,
      "outputs": []
    },
    {
      "cell_type": "markdown",
      "source": [
        "CREATING FEEDBACK DATAFRAME"
      ],
      "metadata": {
        "id": "Ssdzv4SRanEv"
      }
    },
    {
      "cell_type": "code",
      "source": [
        "import pandas as pd\n",
        "\n",
        "# Sample user feedback data\n",
        "data = {\n",
        "    'user_id': [1, 2, 3, 1, 2, 3],\n",
        "    'book_id': [101, 102, 103, 104, 105, 101],\n",
        "    'liked': [1, 0, 1, 0, 1, 1]  # 1 = liked, 0 = not liked\n",
        "}\n",
        "\n",
        "feedback_df = pd.DataFrame(data)\n"
      ],
      "metadata": {
        "id": "NTlR73zra6pQ"
      },
      "execution_count": null,
      "outputs": []
    },
    {
      "cell_type": "markdown",
      "source": [
        "USER FEEDBACK"
      ],
      "metadata": {
        "id": "6aHJxH70YSyP"
      }
    },
    {
      "cell_type": "code",
      "source": [
        "# Summarizing feedback\n",
        "feedback_summary = feedback_df.groupby('liked').size().reset_index(name='count')\n",
        "print(feedback_summary)\n",
        "\n",
        "# Visualize feedback summary\n",
        "import matplotlib.pyplot as plt\n",
        "\n",
        "plt.figure(figsize=(8, 5))\n",
        "plt.bar(feedback_summary['liked'], feedback_summary['count'], color=['red', 'green'])\n",
        "plt.title('User Feedback Summary')\n",
        "plt.xlabel('Liked (0 = No, 1 = Yes)')\n",
        "plt.ylabel('Count')\n",
        "plt.xticks([0, 1], ['No', 'Yes'])\n",
        "plt.show()\n"
      ],
      "metadata": {
        "colab": {
          "base_uri": "https://localhost:8080/",
          "height": 539
        },
        "id": "xsChk0IwbFps",
        "outputId": "ebd9c573-b0fb-4ffb-ad39-f14658871f4d"
      },
      "execution_count": null,
      "outputs": [
        {
          "output_type": "stream",
          "name": "stdout",
          "text": [
            "   liked  count\n",
            "0      0      2\n",
            "1      1      4\n"
          ]
        },
        {
          "output_type": "display_data",
          "data": {
            "text/plain": [
              "<Figure size 800x500 with 1 Axes>"
            ],
            "image/png": "[encoded data removed]"
          },
          "metadata": {}
        }
      ]
    },
    {
      "cell_type": "code",
      "source": [
        "# Example of how top_recommendations could be created based on previous results\n",
        "top_recommendations = pd.DataFrame({\n",
        "    'book_id': [101, 102, 103, 104, 105],  # Replace with your actual book IDs\n",
        "    'title': ['Me Talk Pretty One Day', 'Where the Wild Things Are',\n",
        "              'The Count of Monte Cristo', 'The Road', 'Allegiant (Divergent, #3)'],\n",
        "    'authors': ['David Sedaris', 'Maurice Sendak', 'Alexandre Dumas, Robin Buss',\n",
        "                'Cormac McCarthy', 'Veronica Roth'],\n",
        "    'combined_score': [4.73, 4.27, 4.20, 4.28, 4.40]  # Replace with your actual scores\n",
        "})\n"
      ],
      "metadata": {
        "id": "0sPmFwTObSRj"
      },
      "execution_count": null,
      "outputs": []
    },
    {
      "cell_type": "markdown",
      "source": [
        "HYBRID MODEL RECOMMENDATION SCORE"
      ],
      "metadata": {
        "id": "93Z02igBYWnW"
      }
    },
    {
      "cell_type": "code",
      "source": [
        "# Adjust combined scores based on feedback\n",
        "for index, row in feedback_df.iterrows():\n",
        "    if row['liked'] == 1:\n",
        "        # Increase score for books that were liked\n",
        "        top_recommendations.loc[top_recommendations['book_id'] == row['book_id'], 'combined_score'] += 0.5  # Example adjustment\n",
        "    else:\n",
        "        # Decrease score for books that were not liked\n",
        "        top_recommendations.loc[top_recommendations['book_id'] == row['book_id'], 'combined_score'] -= 0.5  # Example adjustment\n",
        "\n",
        "# Ensure combined scores remain within a reasonable range (optional)\n",
        "top_recommendations['combined_score'] = top_recommendations['combined_score'].clip(lower=0, upper=5)  # Assuming a rating scale of 0-5\n",
        "\n",
        "# Display the updated recommendations\n",
        "print(\"Updated Recommended Books:\")\n",
        "print(top_recommendations)\n"
      ],
      "metadata": {
        "colab": {
          "base_uri": "https://localhost:8080/"
        },
        "id": "4JKVXuiSbbSh",
        "outputId": "b9d16192-4c06-4fe6-bf71-e100a475f7d5"
      },
      "execution_count": null,
      "outputs": [
        {
          "output_type": "stream",
          "name": "stdout",
          "text": [
            "Updated Recommended Books:\n",
            "   book_id                      title                      authors  \\\n",
            "0      101     Me Talk Pretty One Day                David Sedaris   \n",
            "1      102  Where the Wild Things Are               Maurice Sendak   \n",
            "2      103  The Count of Monte Cristo  Alexandre Dumas, Robin Buss   \n",
            "3      104                   The Road              Cormac McCarthy   \n",
            "4      105  Allegiant (Divergent, #3)                Veronica Roth   \n",
            "\n",
            "   combined_score  \n",
            "0            5.00  \n",
            "1            3.77  \n",
            "2            4.70  \n",
            "3            3.78  \n",
            "4            4.90  \n"
          ]
        }
      ]
    },
    {
      "cell_type": "markdown",
      "source": [
        "UPDATING TOP RECOMMENDATIONS"
      ],
      "metadata": {
        "id": "si528rrOavHG"
      }
    },
    {
      "cell_type": "code",
      "source": [
        "plt.figure(figsize=(10, 6))\n",
        "sns.barplot(x='combined_score', y='title', data=top_recommendations, palette='viridis')\n",
        "plt.title('Updated Top Recommended Books')\n",
        "plt.xlabel('Combined Score')\n",
        "plt.ylabel('Book Title')\n",
        "plt.show()\n"
      ],
      "metadata": {
        "colab": {
          "base_uri": "https://localhost:8080/",
          "height": 515
        },
        "id": "7p1GryyNbk7i",
        "outputId": "6aa09444-52ce-49dc-b60a-1dff25b71f56"
      },
      "execution_count": null,
      "outputs": [
        {
          "output_type": "stream",
          "name": "stderr",
          "text": [
            "<ipython-input-107-9317db71657e>:2: FutureWarning: \n",
            "\n",
            "Passing `palette` without assigning `hue` is deprecated and will be removed in v0.14.0. Assign the `y` variable to `hue` and set `legend=False` for the same effect.\n",
            "\n",
            "  sns.barplot(x='combined_score', y='title', data=top_recommendations, palette='viridis')\n"
          ]
        },
        {
          "output_type": "display_data",
          "data": {
            "text/plain": [
              "<Figure size 1000x600 with 1 Axes>"
            ],
            "image/png": "[encoded data removed]"
          },
          "metadata": {}
        }
      ]
    },
    {
      "cell_type": "markdown",
      "source": [
        "ACTUAL AND PREDICTED LIKES ACCURACY"
      ],
      "metadata": {
        "id": "c5KgOrAca7QC"
      }
    },
    {
      "cell_type": "code",
      "source": [
        "import numpy as np\n",
        "from sklearn.metrics import precision_score, recall_score, f1_score\n",
        "\n",
        "# Get the recommended book IDs\n",
        "recommended_books = top_recommendations['book_id'].tolist()  # Ensure this is defined properly\n",
        "actual_feedback = feedback_df.set_index('book_id')['liked']  # Set book_id as index for easier access\n",
        "\n",
        "# Initialize lists for true and predicted labels\n",
        "y_true = []  # Actual likes (1 for liked, 0 for not liked)\n",
        "y_pred = []  # Predicted likes based on recommendations\n",
        "\n",
        "# Create true and predicted labels based on recommendations\n",
        "for book_id in recommended_books:\n",
        "    if book_id in actual_feedback.index:\n",
        "        # Ensure we are working with a single value\n",
        "        liked_value = actual_feedback.loc[book_id]\n",
        "        if isinstance(liked_value, pd.Series):  # Check if it's still a Series\n",
        "            liked_value = liked_value.iloc[0]  # Get the first value\n",
        "\n",
        "        y_true.append(int(liked_value))  # Append the actual liked value as int\n",
        "        y_pred.append(1)  # Book was recommended, so predict liked\n",
        "    else:\n",
        "        y_true.append(0)  # Book not in feedback, predict not liked\n",
        "        y_pred.append(0)  # Predict not liked since it's not recommended\n",
        "\n",
        "# Debugging: Print the contents of the lists\n",
        "print(\"y_true:\", y_true)\n",
        "print(\"y_pred:\", y_pred)\n",
        "\n",
        "# Convert to NumPy arrays for evaluation\n",
        "y_true = np.array(y_true)\n",
        "y_pred = np.array(y_pred)\n",
        "\n",
        "# Calculate precision, recall, and F1 score if conversion was successful\n",
        "if y_true.size > 0 and y_pred.size > 0:\n",
        "    precision = precision_score(y_true, y_pred)\n",
        "    recall = recall_score(y_true, y_pred)\n",
        "    f1 = f1_score(y_true, y_pred)\n",
        "\n",
        "    # Print results\n",
        "    print(f'Precision: {precision:.2f}')\n",
        "    print(f'Recall: {recall:.2f}')\n",
        "    print(f'F1 Score: {f1:.2f}')\n"
      ],
      "metadata": {
        "colab": {
          "base_uri": "https://localhost:8080/"
        },
        "id": "XH4wyhzGcJQI",
        "outputId": "ae593ed2-def3-4b19-b093-da5025ace83d"
      },
      "execution_count": null,
      "outputs": [
        {
          "output_type": "stream",
          "name": "stdout",
          "text": [
            "y_true: [1, 0, 1, 0, 1]\n",
            "y_pred: [1, 1, 1, 1, 1]\n",
            "Precision: 0.60\n",
            "Recall: 1.00\n",
            "F1 Score: 0.75\n"
          ]
        }
      ]
    },
    {
      "cell_type": "code",
      "source": [
        "from surprise import Dataset, Reader\n",
        "from surprise import KNNBasic\n",
        "from surprise import accuracy\n",
        "from surprise.model_selection import train_test_split\n",
        "\n",
        "def get_knn_predictions(user_id, book_id, knn_model, data):\n",
        "    # Create a DataFrame for the prediction\n",
        "    # We need to create a DataFrame for prediction to match the input shape expected by Surprise\n",
        "    test_data = pd.DataFrame({'user_id': [user_id], 'book_id': [book_id]})\n",
        "\n",
        "    # Convert the user_id and book_id to the internal format (if necessary)\n",
        "    # Make sure you have the right mapping from book_id to inner id if you are using Surprise\n",
        "\n",
        "    # Get the predicted rating\n",
        "    predicted_rating = knn_model.predict(user_id, book_id).est  # Get the estimated rating\n",
        "\n",
        "    return predicted_rating  # Return the predicted rating\n"
      ],
      "metadata": {
        "id": "WuApVdyldPv9"
      },
      "execution_count": null,
      "outputs": []
    },
    {
      "cell_type": "code",
      "source": [
        "knn_predictions = {}\n",
        "for user_id, book_id, _ in testset:  # Unpack the tuple (user_id, book_id, rating)\n",
        "    knn_predictions[f\"{user_id}_{book_id}\"] = get_knn_predictions(user_id, book_id, knn_model, data)\n"
      ],
      "metadata": {
        "id": "Jyuy0xaJfhlh"
      },
      "execution_count": null,
      "outputs": []
    },
    {
      "cell_type": "code",
      "source": [
        "# Create binary labels based on a lower threshold (e.g., rating >= 3)\n",
        "predicted_labels = [1 if combined_scores.get(f\"{user_id}_{book_id}\", 0) >= 3 else 0 for user_id, book_id, _ in testset]\n"
      ],
      "metadata": {
        "id": "TXCMm8WkfkBh"
      },
      "execution_count": null,
      "outputs": []
    },
    {
      "cell_type": "markdown",
      "source": [
        "PREDICTING SCORE FOR BOOKS"
      ],
      "metadata": {
        "id": "0EgPqNf8bCdO"
      }
    },
    {
      "cell_type": "code",
      "source": [
        "for user_id, book_id, _ in testset:\n",
        "    score = combined_scores.get(f\"{user_id}_{book_id}\", 0)\n",
        "    print(f\"User: {user_id}, Book: {book_id}, Predicted Score: {score}\")\n"
      ],
      "metadata": {
        "colab": {
          "base_uri": "https://localhost:8080/"
        },
        "id": "9zjmaPOKf1k6",
        "outputId": "70c3dac2-b6b3-4b18-f168-f0c57af86870"
      },
      "execution_count": null,
      "outputs": [
        {
          "output_type": "stream",
          "name": "stdout",
          "text": [
            "User: 4, Book: 104, Predicted Score: 3.6717725352442043\n"
          ]
        }
      ]
    },
    {
      "cell_type": "code",
      "source": [
        "# Create binary labels based on a lower threshold\n",
        "predicted_labels = [1 if combined_scores.get(f\"{user_id}_{book_id}\", 0) >= 3.5 else 0 for user_id, book_id, _ in testset]\n"
      ],
      "metadata": {
        "id": "JSxO0qG_f328"
      },
      "execution_count": null,
      "outputs": []
    },
    {
      "cell_type": "code",
      "source": [
        "for user_id, book_id, _ in testset:\n",
        "    score = combined_scores.get(f\"{user_id}_{book_id}\", 0)\n",
        "    if score >= 3.5:  # Change this to your current threshold\n",
        "        print(f\"User: {user_id}, Book: {book_id}, Predicted Score: {score} - Recommended\")\n",
        "    else:\n",
        "        print(f\"User: {user_id}, Book: {book_id}, Predicted Score: {score} - Not Recommended\")\n"
      ],
      "metadata": {
        "colab": {
          "base_uri": "https://localhost:8080/"
        },
        "id": "y8uCkS8YgLRV",
        "outputId": "764dbca5-0095-43f4-966b-fddfcaf5f94b"
      },
      "execution_count": null,
      "outputs": [
        {
          "output_type": "stream",
          "name": "stdout",
          "text": [
            "User: 4, Book: 104, Predicted Score: 3.6717725352442043 - Recommended\n"
          ]
        }
      ]
    },
    {
      "cell_type": "code",
      "source": [
        "def compute_similarity(tags_a, tags_b):\n",
        "    # Split tags into sets\n",
        "    set_a = set(tags_a.split(','))  # Adjust the delimiter based on your tags format\n",
        "    set_b = set(tags_b.split(','))\n",
        "\n",
        "    # Calculate Jaccard similarity\n",
        "    intersection = len(set_a.intersection(set_b))\n",
        "    union = len(set_a.union(set_b))\n",
        "\n",
        "    if union == 0:\n",
        "        return 0.0\n",
        "    else:\n",
        "        return intersection / union\n"
      ],
      "metadata": {
        "id": "HIDY15qgHOTZ"
      },
      "execution_count": null,
      "outputs": []
    },
    {
      "cell_type": "code",
      "source": [
        "# Create a synthetic tags column\n",
        "bookss_df['tags'] = bookss_df['title'] + \" \" + bookss_df['authors']\n"
      ],
      "metadata": {
        "id": "Tl4-yX5-HSy_"
      },
      "execution_count": null,
      "outputs": []
    },
    {
      "cell_type": "markdown",
      "source": [
        "KNN RECOMMENDATIONS"
      ],
      "metadata": {
        "id": "I9hYGpe7Yl_s"
      }
    },
    {
      "cell_type": "code",
      "source": [
        "def get_knn_predictions(user_id, book_id, knn_model, data, n_neighbors=5):\n",
        "    # Check if the book_id exists in the data\n",
        "    if book_id not in data['book_id'].values:\n",
        "        return 0  # Return a default value if the book doesn't exist\n",
        "\n",
        "    # Find the index of the book_id\n",
        "    book_index = data[data['book_id'] == book_id].index[0]\n",
        "\n",
        "    # Get the data for the user\n",
        "    user_data = data[data['user_id'] == user_id].drop('rating', axis=1)\n",
        "\n",
        "    # Get the nearest neighbors for the user's rating of the specific book\n",
        "    distances, indices = knn_model.kneighbors(user_data, n_neighbors=n_neighbors)\n",
        "\n",
        "    # Get the ratings of the neighbors for the target book\n",
        "    neighbor_ratings = []\n",
        "    for index in indices.flatten():\n",
        "        neighbor_user_id = data.iloc[index]['user_id']\n",
        "        # Assuming you have a way to get ratings for each user-book pair\n",
        "        rating = data[(data['user_id'] == neighbor_user_id) & (data['book_id'] == book_id)]['rating']\n",
        "        if not rating.empty:\n",
        "            neighbor_ratings.append(rating.values[0])\n",
        "\n",
        "    # Calculate the average rating from neighbors\n",
        "    if neighbor_ratings:\n",
        "        return np.mean(neighbor_ratings)\n",
        "    return 0  # Return 0 if there are no ratings\n"
      ],
      "metadata": {
        "id": "puJYHFOEHaRA"
      },
      "execution_count": null,
      "outputs": []
    },
    {
      "cell_type": "markdown",
      "source": [
        "HYBRID MODEL"
      ],
      "metadata": {
        "id": "R-bfZHXzYzEq"
      }
    },
    {
      "cell_type": "code",
      "source": [
        "from sklearn.metrics import precision_score, recall_score, f1_score\n",
        "\n",
        "# Create binary labels based on a threshold (e.g., rating >= 4)\n",
        "true_labels = [1 if rating >= 4 else 0 for user_id, book_id, rating in testset]\n",
        "predicted_labels = [1 if combined_scores.get(f\"{user_id}_{book_id}\", 0) >= 4 else 0 for user_id, book_id, _ in testset]\n",
        "\n",
        "# Calculate metrics\n",
        "precision = precision_score(true_labels, predicted_labels)\n",
        "recall = recall_score(true_labels, predicted_labels)\n",
        "f1 = f1_score(true_labels, predicted_labels)\n",
        "\n",
        "print(f'Hybrid Model - Precision: {precision:.4f}, Recall: {recall:.4f}, F1 Score: {f1:.4f}')\n"
      ],
      "metadata": {
        "colab": {
          "base_uri": "https://localhost:8080/"
        },
        "id": "SHkaJIyxH7zh",
        "outputId": "d8ba33f2-1d28-42ed-d069-c488e5896a36"
      },
      "execution_count": null,
      "outputs": [
        {
          "output_type": "stream",
          "name": "stdout",
          "text": [
            "Hybrid Model - Precision: 0.8935, Recall: 0.5941, F1 Score: 0.7137\n"
          ]
        }
      ]
    },
    {
      "cell_type": "markdown",
      "source": [
        "BAR GRAPH(HYBRID MODEL)"
      ],
      "metadata": {
        "id": "E5644A75Y9On"
      }
    },
    {
      "cell_type": "code",
      "source": [
        "import matplotlib.pyplot as plt\n",
        "import numpy as np\n",
        "\n",
        "# Data for your model without CBF\n",
        "model_name = 'Hybrid Model'\n",
        "precision_score = 0.8935  # Your precision score\n",
        "recall_score = 0.5941     # Your recall score\n",
        "f1_score = 0.7137         # Your F1 score\n",
        "\n",
        "# Create an array for the bar positions\n",
        "scores = [precision_score, recall_score, f1_score]\n",
        "labels = ['Precision', 'Recall', 'F1 Score']\n",
        "\n",
        "# Create the bar chart\n",
        "plt.bar(labels, scores, color=['blue', 'orange', 'green'])\n",
        "\n",
        "# Adding labels and title\n",
        "plt.ylabel('Scores')\n",
        "plt.title(f'Performance of {model_name} (Without CBF)')\n",
        "plt.ylim(0, 1)  # Set y-axis limits\n",
        "\n",
        "# Show the plot\n",
        "plt.show()\n"
      ],
      "metadata": {
        "colab": {
          "base_uri": "https://localhost:8080/",
          "height": 452
        },
        "id": "VvkUYkGNH_DI",
        "outputId": "87905d60-e8a0-48bf-dedf-208a1b90baa1"
      },
      "execution_count": null,
      "outputs": [
        {
          "output_type": "display_data",
          "data": {
            "text/plain": [
              "<Figure size 640x480 with 1 Axes>"
            ],
            "image/png": "[encoded data removed]"
          },
          "metadata": {}
        }
      ]
    },
    {
      "cell_type": "markdown",
      "source": [
        "CONFUSION MATRIX(HYBRID MODEL)"
      ],
      "metadata": {
        "id": "QYy1Pw78ZB84"
      }
    },
    {
      "cell_type": "code",
      "source": [
        "# Assuming you have already generated predictions from SVD and KNN\n",
        "# Let's say you want to combine predictions for the same test set\n",
        "svd_predictions = {f\"{pred[0]}_{pred[1]}\": pred[3] for pred in svd.test(testset)}  # User_BookID: Rating from SVD\n",
        "knn_predictions = {f\"{pred[0]}_{pred[1]}\": pred[3] for pred in knn.test(testset)}  # User_BookID: Rating from KNN\n",
        "\n",
        "# Combine scores (you can define your own weighting scheme)\n",
        "combined_scores = {}\n",
        "for key in svd_predictions.keys():\n",
        "    svd_score = svd_predictions.get(key, 0)\n",
        "    knn_score = knn_predictions.get(key, 0)\n",
        "    combined_scores[key] = (svd_score + knn_score) / 2  # Example: simple average of both predictions\n",
        "\n",
        "from sklearn.metrics import confusion_matrix, ConfusionMatrixDisplay\n",
        "import matplotlib.pyplot as plt\n",
        "\n",
        "# Create binary labels based on a threshold (e.g., rating >= 4)\n",
        "true_labels = [1 if rating >= 4 else 0 for user_id, book_id, rating in testset]\n",
        "predicted_labels = [1 if combined_scores.get(f\"{user_id}_{book_id}\", 0) >= 4 else 0 for user_id, book_id, rating in testset]\n",
        "\n",
        "# Calculate confusion matrix\n",
        "cm_hybrid = confusion_matrix(true_labels, predicted_labels)\n",
        "\n",
        "# Create a confusion matrix display\n",
        "disp_hybrid = ConfusionMatrixDisplay(confusion_matrix=cm_hybrid, display_labels=['Not Recommended', 'Recommended'])\n",
        "disp_hybrid.plot(cmap=plt.cm.Blues)\n",
        "plt.title('Confusion Matrix (Hybrid Model)')\n",
        "plt.xlabel('Predicted Labels')\n",
        "plt.ylabel('True Labels')\n",
        "plt.show()\n"
      ],
      "metadata": {
        "colab": {
          "base_uri": "https://localhost:8080/",
          "height": 472
        },
        "id": "Ae9JGbUJINO6",
        "outputId": "96b11cef-aa22-435b-f737-c423332fdd93"
      },
      "execution_count": null,
      "outputs": [
        {
          "output_type": "display_data",
          "data": {
            "text/plain": [
              "<Figure size 640x480 with 2 Axes>"
            ],
            "image/png": "[encoded data removed]"
          },
          "metadata": {}
        }
      ]
    },
    {
      "cell_type": "markdown",
      "source": [
        "ROC CURVE(HYBRID MODEL)"
      ],
      "metadata": {
        "id": "hwwUGFs0ZHrt"
      }
    },
    {
      "cell_type": "code",
      "source": [
        "# Assuming you have already generated predictions from SVD and KNN\n",
        "# Let's say you want to combine predictions for the same test set\n",
        "svd_predictions = {f\"{pred[0]}_{pred[1]}\": pred[3] for pred in svd.test(testset)}  # User_BookID: Rating from SVD\n",
        "knn_predictions = {f\"{pred[0]}_{pred[1]}\": pred[3] for pred in knn.test(testset)}  # User_BookID: Rating from KNN\n",
        "\n",
        "# Combine scores (you can define your own weighting scheme)\n",
        "combined_scores = {}\n",
        "for key in svd_predictions.keys():\n",
        "    svd_score = svd_predictions.get(key, 0)\n",
        "    knn_score = knn_predictions.get(key, 0)\n",
        "    combined_scores[key] = (svd_score + knn_score) / 2  # Example: simple average of both predictions\n",
        "\n",
        "from sklearn.metrics import roc_curve, auc\n",
        "import matplotlib.pyplot as plt\n",
        "\n",
        "# Create binary labels based on a threshold (e.g., rating >= 4)\n",
        "true_labels = [1 if rating >= 4 else 0 for user_id, book_id, rating in testset]\n",
        "y_scores_hybrid = [combined_scores.get(f\"{user_id}_{book_id}\", 0) for user_id, book_id, rating in testset]\n",
        "\n",
        "# Calculate ROC curve\n",
        "fpr_hybrid, tpr_hybrid, thresholds_hybrid = roc_curve(true_labels, y_scores_hybrid)\n",
        "\n",
        "# Calculate AUC (Area Under the Curve)\n",
        "roc_auc_hybrid = auc(fpr_hybrid, tpr_hybrid)\n",
        "\n",
        "# Plot the ROC curve\n",
        "plt.figure(figsize=(8, 6))\n",
        "plt.plot(fpr_hybrid, tpr_hybrid, color='blue', lw=2, label='ROC curve (area = {:.2f})'.format(roc_auc_hybrid))\n",
        "plt.plot([0, 1], [0, 1], color='red', linestyle='--')  # Diagonal line\n",
        "plt.xlim([0.0, 1.0])\n",
        "plt.ylim([0.0, 1.0])\n",
        "plt.xlabel('False Positive Rate')\n",
        "plt.ylabel('True Positive Rate')\n",
        "plt.title('Receiver Operating Characteristic (ROC) Curve (Hybrid Model)')\n",
        "plt.legend(loc='lower right')\n",
        "plt.show()\n"
      ],
      "metadata": {
        "colab": {
          "base_uri": "https://localhost:8080/",
          "height": 564
        },
        "id": "emg74OnSIV9e",
        "outputId": "e96e574c-e17b-4ebe-9cc0-9705345746b1"
      },
      "execution_count": null,
      "outputs": [
        {
          "output_type": "display_data",
          "data": {
            "text/plain": [
              "<Figure size 800x600 with 1 Axes>"
            ],
            "image/png": "[encoded data removed]"
          },
          "metadata": {}
        }
      ]
    },
    {
      "cell_type": "markdown",
      "source": [
        "DECISION TREE"
      ],
      "metadata": {
        "id": "eE1WBuvLZLxP"
      }
    },
    {
      "cell_type": "code",
      "source": [
        "from sklearn.tree import DecisionTreeClassifier\n",
        "from sklearn.model_selection import train_test_split\n",
        "from sklearn.metrics import precision_score, recall_score, f1_score\n",
        "\n",
        "# Prepare your data (X, y) - example format\n",
        "X = ratingss_df[['user_id', 'book_id']]  # Adjust with relevant features\n",
        "y = (ratingss_df['rating'] >= 4).astype(int)  # Convert ratings into binary labels (liked or not liked)\n",
        "\n",
        "# Split data into train and test\n",
        "X_train, X_test, y_train, y_test = train_test_split(X, y, test_size=0.2, random_state=42)\n",
        "\n",
        "# Initialize and train the Decision Tree model\n",
        "dt_model = DecisionTreeClassifier(random_state=42)\n",
        "dt_model.fit(X_train, y_train)\n",
        "\n",
        "# Make predictions\n",
        "y_pred_dt = dt_model.predict(X_test)\n",
        "\n",
        "# Calculate precision, recall, and F1 score\n",
        "precision_dt = precision_score(y_test, y_pred_dt)\n",
        "recall_dt = recall_score(y_test, y_pred_dt)\n",
        "f1_dt = f1_score(y_test, y_pred_dt)\n",
        "\n",
        "print(f'Decision Tree - Precision: {precision_dt:.4f}, Recall: {recall_dt:.4f}, F1 Score: {f1_dt:.4f}')\n"
      ],
      "metadata": {
        "colab": {
          "base_uri": "https://localhost:8080/"
        },
        "id": "Gt_CS5KHIdYZ",
        "outputId": "d823fd3e-3d75-4682-84d9-6b1659f858ab"
      },
      "execution_count": null,
      "outputs": [
        {
          "output_type": "stream",
          "name": "stdout",
          "text": [
            "Decision Tree - Precision: 0.7289, Recall: 0.7265, F1 Score: 0.7277\n"
          ]
        }
      ]
    },
    {
      "cell_type": "markdown",
      "source": [
        "BAR GRAPH(DECISION TREE)"
      ],
      "metadata": {
        "id": "CVJVeAgJZO6n"
      }
    },
    {
      "cell_type": "code",
      "source": [
        "import matplotlib.pyplot as plt\n",
        "\n",
        "# Decision Tree metrics\n",
        "precision_dt = 0.7289\n",
        "recall_dt = 0.7265\n",
        "f1_dt = 0.7277\n",
        "\n",
        "# Data for the bar graph\n",
        "metrics = ['Precision', 'Recall', 'F1 Score']\n",
        "scores = [precision_dt, recall_dt, f1_dt]\n",
        "\n",
        "# Create the bar graph\n",
        "plt.bar(metrics, scores, color=['blue', 'orange', 'green'])\n",
        "plt.xlabel('Metrics')\n",
        "plt.ylabel('Scores')\n",
        "plt.title('Decision Tree Performance Metrics')\n",
        "plt.ylim(0, 1)  # Set y-axis limits to [0, 1]\n",
        "plt.show()\n"
      ],
      "metadata": {
        "colab": {
          "base_uri": "https://localhost:8080/",
          "height": 472
        },
        "id": "WrQaOcrqI6qJ",
        "outputId": "9074470c-085d-4f8f-8641-b510bd0d9395"
      },
      "execution_count": null,
      "outputs": [
        {
          "output_type": "display_data",
          "data": {
            "text/plain": [
              "<Figure size 640x480 with 1 Axes>"
            ],
            "image/png": "[encoded data removed]"
          },
          "metadata": {}
        }
      ]
    },
    {
      "cell_type": "markdown",
      "source": [
        "CONFUSION MATRIX(DECISION TREE)"
      ],
      "metadata": {
        "id": "W1LZyGvEZT1E"
      }
    },
    {
      "cell_type": "code",
      "source": [
        "import pandas as pd\n",
        "import numpy as np\n",
        "from sklearn.model_selection import train_test_split\n",
        "from sklearn.tree import DecisionTreeClassifier\n",
        "from sklearn.metrics import confusion_matrix, ConfusionMatrixDisplay\n",
        "import matplotlib.pyplot as plt\n",
        "\n",
        "# Load your dataset\n",
        "data = pd.DataFrame({\n",
        "    'feature1': np.random.rand(10000),  # Example feature 1\n",
        "    'feature2': np.random.rand(10000),  # Example feature 2\n",
        "    'ratings': np.random.randint(1, 6, 10000)  # Ratings between 1 and 5\n",
        "})\n",
        "\n",
        "# Define features and target\n",
        "X = data[['feature1', 'feature2']]  # Replace with your actual feature columns\n",
        "y = data['ratings']  # Assuming 'ratings' is the column with rating values\n",
        "\n",
        "# Split the dataset into training and testing sets\n",
        "X_train, X_test, y_train, y_test = train_test_split(X, y, test_size=0.2, random_state=42)\n",
        "\n",
        "# Train the Decision Tree model\n",
        "decision_tree_model = DecisionTreeClassifier(random_state=42)\n",
        "decision_tree_model.fit(X_train, y_train)\n",
        "\n",
        "# Generate true labels based on y_test\n",
        "true_labels = [1 if rating >= 4 else 0 for rating in y_test]\n",
        "\n",
        "# Generate predictions using your Decision Tree model on the test features\n",
        "y_pred_dt = decision_tree_model.predict(X_test)\n",
        "\n",
        "# Check lengths\n",
        "print(\"Length of true_labels:\", len(true_labels))\n",
        "print(\"Length of predicted_labels:\", len(y_pred_dt))\n",
        "\n",
        "# Calculate confusion matrix only if lengths are the same\n",
        "if len(true_labels) == len(y_pred_dt):\n",
        "    cm_dt = confusion_matrix(true_labels, y_pred_dt)\n",
        "\n",
        "    # Create a confusion matrix display\n",
        "    disp_dt = ConfusionMatrixDisplay(confusion_matrix=cm_dt)\n",
        "    disp_dt.plot(cmap=plt.cm.Blues, values_format='d')  # Add values_format='d' for integer display\n",
        "    plt.title('Confusion Matrix (Decision Tree)')\n",
        "    plt.xlabel('Predicted Labels')\n",
        "    plt.ylabel('True Labels')\n",
        "    plt.show()\n",
        "else:\n",
        "    print(\"Length mismatch: true_labels has\", len(true_labels), \"and predicted_labels has\", len(y_pred_dt))\n"
      ],
      "metadata": {
        "colab": {
          "base_uri": "https://localhost:8080/",
          "height": 507
        },
        "id": "0V8xuf10I-3c",
        "outputId": "105492c5-ab81-4b41-c65d-2ba557aa7dec"
      },
      "execution_count": null,
      "outputs": [
        {
          "output_type": "stream",
          "name": "stdout",
          "text": [
            "Length of true_labels: 2000\n",
            "Length of predicted_labels: 2000\n"
          ]
        },
        {
          "output_type": "display_data",
          "data": {
            "text/plain": [
              "<Figure size 640x480 with 2 Axes>"
            ],
            "image/png": "[encoded data removed]"
          },
          "metadata": {}
        }
      ]
    },
    {
      "cell_type": "markdown",
      "source": [
        "ROC CURVE(DECISION TREE)"
      ],
      "metadata": {
        "id": "nXP7Y8RXZY_O"
      }
    },
    {
      "cell_type": "code",
      "source": [
        "import pandas as pd\n",
        "import numpy as np\n",
        "from sklearn.model_selection import train_test_split\n",
        "from sklearn.tree import DecisionTreeClassifier\n",
        "from sklearn.metrics import confusion_matrix, ConfusionMatrixDisplay, roc_curve, auc\n",
        "import matplotlib.pyplot as plt\n",
        "\n",
        "# Load your dataset\n",
        "data = pd.DataFrame({\n",
        "    'feature1': np.random.rand(10000),  # Example feature 1\n",
        "    'feature2': np.random.rand(10000),  # Example feature 2\n",
        "    'ratings': np.random.randint(1, 6, 10000)  # Ratings between 1 and 5\n",
        "})\n",
        "\n",
        "# Define features and target\n",
        "X = data[['feature1', 'feature2']]  # Replace with your actual feature columns\n",
        "y = data['ratings']  # Assuming 'ratings' is the column with rating values\n",
        "\n",
        "# Split the dataset into training and testing sets\n",
        "X_train, X_test, y_train, y_test = train_test_split(X, y, test_size=0.2, random_state=42)\n",
        "\n",
        "# Train the Decision Tree model\n",
        "decision_tree_model = DecisionTreeClassifier(random_state=42)\n",
        "decision_tree_model.fit(X_train, y_train)\n",
        "\n",
        "# Generate true labels based on y_test\n",
        "true_labels = [1 if rating >= 4 else 0 for rating in y_test]\n",
        "\n",
        "# Generate predictions using your Decision Tree model on the test features\n",
        "y_pred_dt = decision_tree_model.predict(X_test)\n",
        "\n",
        "# Get predicted probabilities for the positive class\n",
        "y_scores = decision_tree_model.predict_proba(X_test)[:, 1]  # Probability for the positive class\n",
        "\n",
        "# Calculate ROC curve\n",
        "fpr, tpr, thresholds = roc_curve(true_labels, y_scores)\n",
        "\n",
        "# Calculate AUC (Area Under the Curve)\n",
        "roc_auc = auc(fpr, tpr)\n",
        "\n",
        "# Plot the ROC curve\n",
        "plt.figure(figsize=(8, 6))\n",
        "plt.plot(fpr, tpr, color='blue', lw=2, label='ROC curve (area = {:.2f})'.format(roc_auc))\n",
        "plt.plot([0, 1], [0, 1], color='red', linestyle='--')  # Diagonal line\n",
        "plt.xlim([0.0, 1.0])\n",
        "plt.ylim([0.0, 1.0])\n",
        "plt.xlabel('False Positive Rate')\n",
        "plt.ylabel('True Positive Rate')\n",
        "plt.title('Receiver Operating Characteristic (ROC) Curve')\n",
        "plt.legend(loc='lower right')\n",
        "plt.show()\n"
      ],
      "metadata": {
        "colab": {
          "base_uri": "https://localhost:8080/",
          "height": 564
        },
        "id": "oslg2PF9JDji",
        "outputId": "dd818929-c630-4d94-c34b-c52437d1e13c"
      },
      "execution_count": null,
      "outputs": [
        {
          "output_type": "display_data",
          "data": {
            "text/plain": [
              "<Figure size 800x600 with 1 Axes>"
            ],
            "image/png": "[encoded data removed]"
          },
          "metadata": {}
        }
      ]
    },
    {
      "cell_type": "code",
      "source": [
        "!pip install imbalanced-learn\n"
      ],
      "metadata": {
        "colab": {
          "base_uri": "https://localhost:8080/"
        },
        "id": "cIAcNJ3hJltE",
        "outputId": "4ada8244-2261-430e-ab1c-891d389ad004"
      },
      "execution_count": null,
      "outputs": [
        {
          "output_type": "stream",
          "name": "stdout",
          "text": [
            "Requirement already satisfied: imbalanced-learn in /usr/local/lib/python3.10/dist-packages (0.12.4)\n",
            "Requirement already satisfied: numpy>=1.17.3 in /usr/local/lib/python3.10/dist-packages (from imbalanced-learn) (1.26.4)\n",
            "Requirement already satisfied: scipy>=1.5.0 in /usr/local/lib/python3.10/dist-packages (from imbalanced-learn) (1.13.1)\n",
            "Requirement already satisfied: scikit-learn>=1.0.2 in /usr/local/lib/python3.10/dist-packages (from imbalanced-learn) (1.5.2)\n",
            "Requirement already satisfied: joblib>=1.1.1 in /usr/local/lib/python3.10/dist-packages (from imbalanced-learn) (1.4.2)\n",
            "Requirement already satisfied: threadpoolctl>=2.0.0 in /usr/local/lib/python3.10/dist-packages (from imbalanced-learn) (3.5.0)\n"
          ]
        }
      ]
    },
    {
      "cell_type": "markdown",
      "source": [
        "NAIVE BAYES"
      ],
      "metadata": {
        "id": "r5F-RnLcZdvW"
      }
    },
    {
      "cell_type": "code",
      "source": [
        "from sklearn.naive_bayes import GaussianNB\n",
        "from sklearn.metrics import precision_score, recall_score, f1_score\n",
        "from sklearn.model_selection import train_test_split\n",
        "from imblearn.over_sampling import SMOTE  # To handle class imbalance\n",
        "\n",
        "# Convert ratings to binary labels: 1 for 'liked' and 0 for 'not liked'\n",
        "ratingss_df['liked'] = ratingss_df['rating'].apply(lambda x: 1 if x >= 4 else 0)\n",
        "\n",
        "# Prepare features (e.g., user_id and book_id) and labels (liked)\n",
        "X = ratingss_df[['user_id', 'book_id']]\n",
        "y = ratingss_df['liked']\n",
        "\n",
        "# Apply SMOTE to handle class imbalance\n",
        "smote = SMOTE(random_state=42)\n",
        "X_resampled, y_resampled = smote.fit_resample(X, y)\n",
        "\n",
        "# Split into training and test sets\n",
        "X_train, X_test, y_train, y_test = train_test_split(X_resampled, y_resampled, test_size=0.2, random_state=42)\n",
        "\n",
        "# Convert to arrays for Naive Bayes input\n",
        "X_train = X_train.to_numpy()\n",
        "X_test = X_test.to_numpy()\n",
        "\n",
        "# Train Naive Bayes model\n",
        "nb_model = GaussianNB()\n",
        "nb_model.fit(X_train, y_train)\n",
        "\n",
        "# Make predictions\n",
        "y_pred = nb_model.predict(X_test)\n",
        "\n",
        "# Calculate precision, recall, and F1 score\n",
        "precision = precision_score(y_test, y_pred)\n",
        "recall = recall_score(y_test, y_pred)\n",
        "f1 = f1_score(y_test, y_pred)\n",
        "\n",
        "print(f'Naive Bayes - Precision: {precision:.4f}, Recall: {recall:.4f}, F1 Score: {f1:.4f}')\n"
      ],
      "metadata": {
        "colab": {
          "base_uri": "https://localhost:8080/"
        },
        "id": "S4A3GDffJt7K",
        "outputId": "64058d46-5f80-4ca7-b604-f3ea7855f12f"
      },
      "execution_count": null,
      "outputs": [
        {
          "output_type": "stream",
          "name": "stdout",
          "text": [
            "Naive Bayes - Precision: 0.5291, Recall: 0.5377, F1 Score: 0.5334\n"
          ]
        }
      ]
    },
    {
      "cell_type": "markdown",
      "source": [
        "RIDGE CLASSIFIER"
      ],
      "metadata": {
        "id": "GbaoJKtrZfsV"
      }
    },
    {
      "cell_type": "code",
      "source": [
        "from sklearn.linear_model import RidgeClassifier\n",
        "from sklearn.metrics import precision_score, recall_score, f1_score\n",
        "\n",
        "# Initialize and train the Ridge Classifier\n",
        "ridge_clf = RidgeClassifier()\n",
        "ridge_clf.fit(X_train, y_train)\n",
        "\n",
        "# Make predictions\n",
        "y_pred = ridge_clf.predict(X_test)\n",
        "\n",
        "# Evaluate the model\n",
        "precision = precision_score(y_test, y_pred)\n",
        "recall = recall_score(y_test, y_pred)\n",
        "f1 = f1_score(y_test, y_pred)\n",
        "\n",
        "print(f'Ridge Classifier - Precision: {precision:.4f}, Recall: {recall:.4f}, F1 Score: {f1:.4f}')\n"
      ],
      "metadata": {
        "colab": {
          "base_uri": "https://localhost:8080/"
        },
        "id": "0f-2B2-zKWOD",
        "outputId": "ebea489b-75d1-4d55-88e6-de425b6f4caf"
      },
      "execution_count": null,
      "outputs": [
        {
          "output_type": "stream",
          "name": "stdout",
          "text": [
            "Ridge Classifier - Precision: 0.5301, Recall: 0.5205, F1 Score: 0.5253\n"
          ]
        }
      ]
    },
    {
      "cell_type": "markdown",
      "source": [
        "RANDOM FOREST"
      ],
      "metadata": {
        "id": "r9CY1yV1Zidg"
      }
    },
    {
      "cell_type": "code",
      "source": [
        "import pandas as pd\n",
        "from sklearn.ensemble import RandomForestClassifier\n",
        "from sklearn.model_selection import train_test_split\n",
        "from sklearn.metrics import precision_score, recall_score, f1_score, accuracy_score\n",
        "from imblearn.over_sampling import SMOTE  # To handle class imbalance\n",
        "\n",
        "# Load and preprocess data\n",
        "# Ensure 'ratingss_df' is already loaded\n",
        "ratingss_df['liked'] = ratingss_df['rating'].apply(lambda x: 1 if x >= 4 else 0)\n",
        "X = ratingss_df[['user_id', 'book_id']]\n",
        "y = ratingss_df['liked']\n",
        "\n",
        "# Handle class imbalance using SMOTE\n",
        "smote = SMOTE(random_state=42)\n",
        "X_resampled, y_resampled = smote.fit_resample(X, y)\n",
        "\n",
        "# Split data into training and test sets\n",
        "X_train, X_test, y_train, y_test = train_test_split(X_resampled, y_resampled, test_size=0.2, random_state=42)\n",
        "\n",
        "# Initialize and train the Random Forest classifier\n",
        "rf_model = RandomForestClassifier(n_estimators=50, max_depth=10, min_samples_leaf=5, random_state=42)\n",
        "rf_model.fit(X_train, y_train)\n",
        "\n",
        "# Make predictions\n",
        "y_pred_rf = rf_model.predict(X_test)\n",
        "\n",
        "# Calculate and print evaluation metrics\n",
        "precision_rf = precision_score(y_test, y_pred_rf)\n",
        "recall_rf = recall_score(y_test, y_pred_rf)\n",
        "f1_rf = f1_score(y_test, y_pred_rf)\n",
        "\n",
        "print(f'Random Forest - Precision: {precision_rf:.4f}, Recall: {recall_rf:.4f}, F1 Score: {f1_rf:.4f}')\n"
      ],
      "metadata": {
        "colab": {
          "base_uri": "https://localhost:8080/"
        },
        "id": "zATIhE0MPSYN",
        "outputId": "eb7f2f52-07a4-4621-c622-e248d8818a3d"
      },
      "execution_count": null,
      "outputs": [
        {
          "output_type": "stream",
          "name": "stdout",
          "text": [
            "Random Forest - Precision: 0.5377, Recall: 0.6060, F1 Score: 0.5698\n"
          ]
        }
      ]
    },
    {
      "cell_type": "markdown",
      "source": [
        "COMPARISION OF ALL MODELS"
      ],
      "metadata": {
        "id": "kbFegZDOZmFk"
      }
    },
    {
      "cell_type": "code",
      "source": [
        "import matplotlib.pyplot as plt\n",
        "import numpy as np\n",
        "\n",
        "# Define model names and their scores\n",
        "models = [\n",
        "    'Hybrid Model',\n",
        "    'Decision Tree',\n",
        "    'Naive Bayes',\n",
        "    'Ridge Classifier',\n",
        "    'Random Forest'\n",
        "]\n",
        "\n",
        "precision_scores = [0.8935, 0.7289, 0.5291, 0.5301, 0.5377]\n",
        "recall_scores = [0.5941, 0.7265, 0.5377, 0.5205, 0.6060]\n",
        "f1_scores = [0.7137, 0.7277, 0.5334, 0.5253, 0.5698]\n",
        "\n",
        "# Set the position for each bar\n",
        "bar_width = 0.2\n",
        "x = np.arange(len(models))\n",
        "\n",
        "# Create the bar chart\n",
        "plt.figure(figsize=(10, 6))\n",
        "plt.bar(x - bar_width, precision_scores, width=bar_width, label='Precision', color='blue')\n",
        "plt.bar(x, recall_scores, width=bar_width, label='Recall', color='orange')\n",
        "plt.bar(x + bar_width, f1_scores, width=bar_width, label='F1 Score', color='green')\n",
        "\n",
        "# Adding labels, title, and legend\n",
        "plt.xlabel('Models')\n",
        "plt.ylabel('Scores')\n",
        "plt.title('Comparison of Proposed Hybrid Model with Other Models')\n",
        "plt.xticks(x, models, rotation=15)\n",
        "plt.ylim(0, 1)  # Set y-axis limits\n",
        "plt.legend()\n",
        "\n",
        "# Show the plot\n",
        "plt.tight_layout()\n",
        "plt.show()\n"
      ],
      "metadata": {
        "colab": {
          "base_uri": "https://localhost:8080/",
          "height": 607
        },
        "id": "w_wG51s1WhpB",
        "outputId": "2433bbff-90d9-4e03-e6e1-2873e71c30f5"
      },
      "execution_count": null,
      "outputs": [
        {
          "output_type": "display_data",
          "data": {
            "text/plain": [
              "<Figure size 1000x600 with 1 Axes>"
            ],
            "image/png": "[encoded data removed]"
          },
          "metadata": {}
        }
      ]
    }
  ]
}